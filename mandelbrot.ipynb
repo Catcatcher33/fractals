{
 "cells": [
  {
   "cell_type": "markdown",
   "metadata": {},
   "source": [
    "# The Mandelbrot fractal\n",
    "\n",
    "The Mandelbrot fractals is a visual representation of the behaviour of the complex number $z=0$ when put under iteration of the function \n",
    "$$f_c(z) = z^{''} + c$$\n",
    "with $c$ being a complex variable. When put under iteration of this function, there are three possible outcomes, which are determined by calculating the magnitude of the complex number after each iteration:\n",
    "- $z$ can grow at a very rapid rate, in which case $\\text{magnitude} > 2$ after a single iteration.\n",
    "- $z$ does not escape to infinity, in which case $\\text{magnitude} < 2$.\n",
    "- $z$'s behavior becomes *chaotic*, meaning its value fluctuates between the first two outcomes.\n",
    "\n",
    "The Mandelbrot fractal allows one to examine the rate at which these complex numbers grow when put under iteration of $f_c(z)$. \n",
    "\n",
    "N.B. The Mandelbrot set is only the set of complex values for which the corresponding orbit of 0 under iteration of $f_c(z)$ remains in the second scenario.\n"
   ]
  },
  {
   "cell_type": "code",
   "execution_count": 49,
   "metadata": {},
   "outputs": [],
   "source": [
    "import matplotlib.pyplot as plt\n",
    "import math\n",
    "\n",
    "\n",
    "def magnitude(re, im):\n",
    "    return math.sqrt(re ** 2 + im ** 2)\n",
    "\n",
    "\n",
    "def set_color(growth):\n",
    "    match growth:\n",
    "        case True if growth >= 80:\n",
    "            return \"green\"\n",
    "        case True if growth > 6:\n",
    "            return \"grey\"\n",
    "        case 6:\n",
    "            return \"yellow\"\n",
    "        case 5:\n",
    "            return \"orange\"\n",
    "        case 4:\n",
    "            return \"pink\"\n",
    "        case 3:\n",
    "            return \"red\"\n",
    "        case 2:\n",
    "            return \"purple\"\n",
    "        case 1:\n",
    "            return \"blue\"\n",
    "        case _:\n",
    "            return \"black\"\n",
    "\n",
    "def analyse_growth(x: float, y: float) -> int:\n",
    "    re: float = 0 # real part\n",
    "    im: float = 0 # imaginary part\n",
    "    for growth in range(100):\n",
    "        temp = re\n",
    "        re = re**2 - im**2 + x\n",
    "        im = 2 * temp * im + y\n",
    "        if magnitude(re, im) > 2:\n",
    "            return growth - 1\n",
    "    return growth\n",
    "\n",
    "\n",
    "def show_rate(x: int, y: int):\n",
    "    growth: int = analyse_growth(x, y) \n",
    "    plt.scatter(x, y, s=1, color=set_color(growth))\n",
    "\n",
    "\n",
    "def frac(n: int):\n",
    "    for k in range(n): # Calculate x coordinates\n",
    "        x: float = -1.25 + 2.5/n*k\n",
    "        for i in range(n): # Calculate y coordinates\n",
    "            y: float = -1 + 2.5/n * i\n",
    "            show_rate(x, y)"
   ]
  },
  {
   "cell_type": "code",
   "execution_count": 50,
   "metadata": {},
   "outputs": [
    {
     "data": {
      "image/png": "[encoded data removed]",
      "text/plain": [
       "<Figure size 432x288 with 1 Axes>"
      ]
     },
     "metadata": {
      "needs_background": "light"
     },
     "output_type": "display_data"
    }
   ],
   "source": [
    "frac(10)\n",
    "plt.axis([-1.25, 1.25, -1.25, 1.25])\n",
    "plt.show()\n"
   ]
  }
 ],
 "metadata": {
  "interpreter": {
   "hash": "c6e4e9f98eb68ad3b7c296f83d20e6de614cb42e90992a65aa266555a3137d0d"
  },
  "kernelspec": {
   "display_name": "Python 3.9.10 ('base')",
   "language": "python",
   "name": "python3"
  },
  "language_info": {
   "codemirror_mode": {
    "name": "ipython",
    "version": 3
   },
   "file_extension": ".py",
   "mimetype": "text/x-python",
   "name": "python",
   "nbconvert_exporter": "python",
   "pygments_lexer": "ipython3",
   "version": "3.10.2"
  },
  "orig_nbformat": 4
 },
 "nbformat": 4,
 "nbformat_minor": 2
}
